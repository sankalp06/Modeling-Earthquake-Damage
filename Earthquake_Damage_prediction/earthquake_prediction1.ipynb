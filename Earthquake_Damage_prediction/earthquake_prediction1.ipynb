{
 "cells": [
  {
   "cell_type": "code",
   "execution_count": 1,
   "id": "6ec1aaa7",
   "metadata": {},
   "outputs": [],
   "source": [
    "import pandas as pd\n",
    "import numpy as np\n",
    "\n",
    "data1 = pd.read_csv('train_values.csv')\n",
    "data2 = pd.read_csv('train_labels.csv')\n",
    "  \n",
    "# using merge function by setting how='inner'\n",
    "df = pd.merge(data1, data2, on='building_id', how='inner')\n",
    "df.drop(['building_id'],axis=1,inplace=True)\n",
    "\n",
    "df['plan_configuration'] = df['plan_configuration'].map({'d':0, 'u':1, 's':3, 'q':4, 'm':5, 'c':6, 'a':7, 'n':8, 'f':9, 'o':10}).astype(int) \n",
    "df['foundation_type'] = df['foundation_type'].map({'r':0, 'w':1, 'i':2, 'u':3, 'h':4}).astype(int)\n",
    "df['ground_floor_type'] = df['ground_floor_type'].map({'f':0, 'x':1, 'v':3, 'z':4, 'm':5}).astype(int)\n",
    "df['other_floor_type'] = df['other_floor_type'].map({'q':0, 'x':1, 'j':2, 's':3}).astype(int)\n",
    "df['position'] = df['position'].map({'t':0, 's':1, 'j':2, 'o':3}).astype(int)\n",
    "df['legal_ownership_status'] = df['legal_ownership_status'].map({'v':0, 'a':2, 'r':3, 'w':4})\n",
    "\n",
    "cols = pd.get_dummies(df['land_surface_condition'])\n",
    "df[cols.columns] = cols\n",
    "df.drop('land_surface_condition', axis = 1, inplace = True)\n",
    "\n",
    "cols = pd.get_dummies(df['roof_type'])\n",
    "df[cols.columns] = cols\n",
    "df.drop('roof_type', axis = 1, inplace = True)"
   ]
  },
  {
   "cell_type": "code",
   "execution_count": 2,
   "id": "3f6a5a30",
   "metadata": {},
   "outputs": [],
   "source": [
    "from sklearn.model_selection import train_test_split\n",
    "from sklearn.preprocessing import MinMaxScaler\n",
    "from sklearn.metrics import precision_score\n",
    "from sklearn.metrics import confusion_matrix\n",
    "\n",
    "y = df['damage_grade']\n",
    "X = df.drop('damage_grade', axis =1)\n",
    "\n",
    "\n",
    "x_train_orginal, x_test_orginal, y_train, y_test = train_test_split(X, y, random_state = 42, test_size = 0.2)\n",
    "scaler = MinMaxScaler()\n",
    "\n",
    "x_train = scaler.fit_transform(x_train_orginal)\n",
    "x_test = scaler.fit_transform(x_test_orginal)"
   ]
  },
  {
   "cell_type": "markdown",
   "id": "0e1578a8",
   "metadata": {},
   "source": [
    "# knn"
   ]
  },
  {
   "cell_type": "code",
   "execution_count": null,
   "id": "e25a84f4",
   "metadata": {},
   "outputs": [],
   "source": [
    "from sklearn.metrics import accuracy_score\n",
    "from sklearn.neighbors import KNeighborsClassifier\n",
    "\n",
    "model = KNeighborsClassifier(n_neighbors=35) \n",
    "\n",
    "model.fit(x_train,y_train)\n",
    "\n",
    "confidence = model.score(x_test,y_test)\n",
    "\n",
    "\n",
    "print(confidence)"
   ]
  },
  {
   "cell_type": "markdown",
   "id": "b2881daa",
   "metadata": {},
   "source": [
    "# GradientBoost"
   ]
  },
  {
   "cell_type": "code",
   "execution_count": 3,
   "id": "a6ac5587",
   "metadata": {},
   "outputs": [
    {
     "name": "stdout",
     "output_type": "stream",
     "text": [
      "0.7329483317664665\n"
     ]
    }
   ],
   "source": [
    "from sklearn.ensemble import GradientBoostingClassifier\n",
    "clf = GradientBoostingClassifier(max_depth=15, n_estimators=100, learning_rate=0.1, random_state=42)\n",
    "clf.fit(x_train,y_train)\n",
    "\n",
    "confidence = clf.score(x_test,y_test)\n",
    "\n",
    "\n",
    "print(confidence)"
   ]
  },
  {
   "cell_type": "markdown",
   "id": "b99cd7cf",
   "metadata": {},
   "source": [
    "# Prediction"
   ]
  },
  {
   "cell_type": "code",
   "execution_count": 4,
   "id": "962f5170",
   "metadata": {},
   "outputs": [
    {
     "data": {
      "text/plain": [
       "array([[0.56666667, 0.41795231, 0.89988062, ..., 1.        , 0.        ,\n",
       "        0.        ],\n",
       "       [0.2       , 0.09887798, 0.9539992 , ..., 1.        , 0.        ,\n",
       "        0.        ],\n",
       "       [0.73333333, 0.01332398, 0.79936331, ..., 1.        , 0.        ,\n",
       "        0.        ],\n",
       "       ...,\n",
       "       [0.73333333, 0.79663394, 0.6137684 , ..., 1.        , 0.        ,\n",
       "        0.        ],\n",
       "       [0.2       , 0.73001403, 0.07258257, ..., 1.        , 0.        ,\n",
       "        0.        ],\n",
       "       [0.86666667, 0.02524544, 0.51221647, ..., 1.        , 1.        ,\n",
       "        0.        ]])"
      ]
     },
     "execution_count": 4,
     "metadata": {},
     "output_type": "execute_result"
    }
   ],
   "source": [
    "df1 = pd.read_csv('test_values.csv') \n",
    "df1.drop(['building_id'],axis=1,inplace=True)\n",
    "\n",
    "df1['plan_configuration'] = df1['plan_configuration'].map({'d':0, 'u':1, 's':3, 'q':4, 'm':5, 'c':6, 'a':7, 'n':8, 'f':9, 'o':10}).astype(int) \n",
    "df1['foundation_type'] = df1['foundation_type'].map({'r':0, 'w':1, 'i':2, 'u':3, 'h':4}).astype(int)\n",
    "df1['ground_floor_type'] = df1['ground_floor_type'].map({'f':0, 'x':1, 'v':3, 'z':4, 'm':5}).astype(int)\n",
    "df1['other_floor_type'] = df1['other_floor_type'].map({'q':0, 'x':1, 'j':2, 's':3}).astype(int)\n",
    "df1['position'] = df1['position'].map({'t':0, 's':1, 'j':2, 'o':3}).astype(int)\n",
    "df1['legal_ownership_status'] = df1['legal_ownership_status'].map({'v':0, 'a':2, 'r':3, 'w':4})\n",
    "\n",
    "cols = pd.get_dummies(df1['land_surface_condition'])\n",
    "df1[cols.columns] = cols\n",
    "df1.drop('land_surface_condition', axis = 1, inplace = True)\n",
    "\n",
    "cols = pd.get_dummies(df1['roof_type'])\n",
    "df1[cols.columns] = cols\n",
    "df1.drop('roof_type', axis = 1, inplace = True)\n",
    "\n",
    "scaler.transform(df1)"
   ]
  },
  {
   "cell_type": "markdown",
   "id": "43fbf9c7",
   "metadata": {},
   "source": [
    "# submission"
   ]
  },
  {
   "cell_type": "code",
   "execution_count": 5,
   "id": "2c7f40e6",
   "metadata": {},
   "outputs": [],
   "source": [
    "df2 = pd.read_csv('test_values.csv')\n",
    "\n",
    "final = clf.predict(df1)\n",
    "submission = pd.DataFrame({\n",
    "    'building_id': np.asarray(df2.building_id), \n",
    "    'damage_grade': final.astype(int)\n",
    "})\n",
    "submission.to_csv('submission_.csv', index=False)"
   ]
  },
  {
   "cell_type": "code",
   "execution_count": null,
   "id": "bda9b36b",
   "metadata": {},
   "outputs": [],
   "source": []
  },
  {
   "cell_type": "code",
   "execution_count": null,
   "id": "67875e24",
   "metadata": {},
   "outputs": [],
   "source": []
  }
 ],
 "metadata": {
  "kernelspec": {
   "display_name": "Python 3",
   "language": "python",
   "name": "python3"
  },
  "language_info": {
   "codemirror_mode": {
    "name": "ipython",
    "version": 3
   },
   "file_extension": ".py",
   "mimetype": "text/x-python",
   "name": "python",
   "nbconvert_exporter": "python",
   "pygments_lexer": "ipython3",
   "version": "3.8.8"
  }
 },
 "nbformat": 4,
 "nbformat_minor": 5
}
